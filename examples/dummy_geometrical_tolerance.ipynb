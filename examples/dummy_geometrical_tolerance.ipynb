{
 "cells": [
  {
   "cell_type": "markdown",
   "id": "225772d6",
   "metadata": {},
   "source": [
    "# Dummy example for geometrical tolerances in system simulation via FMUs"
   ]
  },
  {
   "cell_type": "code",
   "execution_count": 1,
   "id": "11deb528",
   "metadata": {},
   "outputs": [],
   "source": [
    "import os, sys\n",
    "import time\n",
    "from collections import OrderedDict\n",
    "\n",
    "import numpy as np\n",
    "from matplotlib import pyplot as plt\n",
    "\n",
    "from fmpy import read_model_description, extract\n",
    "\n",
    "from fmugym import FMUGym, FMUGymConfig, VarSpace, State2Out, TargetValue\n",
    "\n",
    "import gymnasium as gym"
   ]
  },
  {
   "cell_type": "markdown",
   "id": "093d19b1",
   "metadata": {},
   "source": [
    "### 2 Implement abstract FMUGym class"
   ]
  },
  {
   "cell_type": "code",
   "execution_count": 2,
   "id": "4ca189da-c534-4e14-8498-06e98b21b8c8",
   "metadata": {},
   "outputs": [],
   "source": [
    "class FMUEnv(FMUGym):\n",
    "    def __init__(self, config):\n",
    "        self.init_states = {}\n",
    "        super().__init__(config)\n",
    "\n",
    "    # Used by step() and reset(), returns any relevant debugging information.\n",
    "    def _get_info(self):\n",
    "        return {'info_time':time.time()}\n",
    "\n",
    "    # Retrieves FMU output values by possibly calling self.fmu_get_fmu_output for handling different FMU versions\n",
    "    # and stores them in the self.observation dictionary. \n",
    "    # It can also add output noise (using self._get_output_noise()) and update the set point \n",
    "    def _get_obs(self):\n",
    "        \n",
    "        self._get_fmu_output()\n",
    "\n",
    "        obs = np.array(list(self.observation.values())).flatten()\n",
    "        \n",
    "        noisy_observation = obs + self._get_output_noise()\n",
    "\n",
    "        obs_dict = OrderedDict([\n",
    "            ('observation', np.array(noisy_observation))\n",
    "        ])\n",
    "        return obs_dict\n",
    "\n",
    "    # Returns input noise for each input component, potentially by sampling from the self.input_noise dictionary.\n",
    "    def _get_input_noise(self):\n",
    "        input_noise = []\n",
    "        for inp_name in self.input_dict:\n",
    "            input_noise.append(self.input_noise[inp_name].sample()[0])\n",
    "        return np.array(input_noise)\n",
    "\n",
    "    # Similar to self._get_input_noise, generates output noise for each output component,\n",
    "    # potentially by sampling from the self.output_noise dictionary.\n",
    "    def _get_output_noise(self):\n",
    "        output_noise = []\n",
    "        for out_name in self.output_dict:\n",
    "            output_noise.append(self.output_noise[out_name].sample()[0])  # if normally distributed noise, implement custom sampling here\n",
    "        return np.array(output_noise)\n",
    "\n",
    "    # Returns two booleans indicating first the termination and second truncation status. \n",
    "    def _get_terminated(self):\n",
    "        if self.time > self.stop_time:\n",
    "                self.reset()\n",
    "                return True, False\n",
    "    \n",
    "        for termination in self.terminations:\n",
    "            min_value = self.terminations[termination].low[0]\n",
    "            max_value = self.terminations[termination].high[0]\n",
    "            if self.observation[termination] < min_value or self.observation[termination] > max_value:\n",
    "                self.reset()\n",
    "                return False, True\n",
    "                    \n",
    "        return False, False\n",
    "\n",
    "    # Constructs the action space from a VarSpace object representing the inputs. \n",
    "    # It can use gymnasium.spaces.Box for continuous action spaces.\n",
    "    def _create_action_space(self, inputs):\n",
    "        lows = []\n",
    "        highs = []\n",
    "        for inp in inputs:\n",
    "            lows.append(inputs[inp].low[0])\n",
    "            highs.append(inputs[inp].high[0])\n",
    "        action_space = gym.spaces.Box(low=np.array(lows), high=np.array(highs), dtype=np.float32)\n",
    "        return action_space\n",
    "\n",
    "    # Constructs the observation space returning it as a gymnasium.spaces.Dict. \n",
    "    # The observation space typically includes observation, achieved_goal, and desired_goal, each created from a VarSpace object.\n",
    "    def _create_observation_space(self, outputs):\n",
    "        lows = []\n",
    "        highs = []\n",
    "        for out in outputs:\n",
    "            lows.append(outputs[out].low[0])\n",
    "            highs.append(outputs[out].high[0])\n",
    "        observation_space = gym.spaces.Dict({\n",
    "            'observation': gym.spaces.Box(low=np.array(lows), high=np.array(highs), dtype=np.float32)\n",
    "        })\n",
    "        return observation_space\n",
    "\n",
    "    # Random variations to initial system states and dynamic parameters by sampling from self.random_vars_refs \n",
    "    # and propagates to corresponding initial output values.  \n",
    "    # It also allows for direct manipulation and randomization of set point goals using the self.y_stop class variable.\n",
    "    def _noisy_init(self):\n",
    "        \n",
    "        # add noise to initial system state\n",
    "        for var in self.random_vars_refs:\n",
    "            var_ref = self.random_vars_refs[var][0]\n",
    "            uniform_value = self.random_vars_refs[var][1].sample()[0]   # if normally distributed noise, implement custom sampling here\n",
    "            self.init_states[var_ref] = uniform_value\n",
    "        \n",
    "        return self.init_states\n",
    "\n",
    "    # Called by self.step() to add noise to action from RL library.\n",
    "    # May be used to execute low-level controller and adapt action space.\n",
    "    def _process_action(self, action):\n",
    "        processed_action = action + self._get_input_noise()\n",
    "        return processed_action\n",
    "    \n",
    "    # collect current values of randomized parameters with parameter_refs and store them in self.random_vars_refs\n",
    "    def get_random_vars(self):\n",
    "        params = {key: self.init_states[value[0]] for key, value in self.random_vars_refs.items()}\n",
    "        return params\n",
    "    \n",
    "    # dummy methods to compy with the FMUGym interface\n",
    "    def _process_reward(self, obs, acts, info):\n",
    "        reward = self.compute_reward()\n",
    "        return reward\n",
    "    \n",
    "    def compute_reward(self):\n",
    "        return np.array([0.0])\n",
    "    \n",
    "    def setpoint_trajectory():\n",
    "        return np.array([0.0])"
   ]
  },
  {
   "cell_type": "markdown",
   "id": "725804e5-8b5c-4b58-999a-b56efcf6acc1",
   "metadata": {},
   "source": [
    "### 3 Create FMUGymConfig object"
   ]
  },
  {
   "cell_type": "code",
   "execution_count": 3,
   "id": "c3e20963-cfc0-4e45-8d6e-f8df2f1c3ed5",
   "metadata": {},
   "outputs": [],
   "source": [
    "# providing inputs, outputs and their noises with range of values\n",
    "inputs = VarSpace(\"inputs\")\n",
    "inputs.add_var_box(\"input1\", -2.0, 2.0)\n",
    "inputs.add_var_box(\"input2\", -2.0, 2.0)\n",
    "\n",
    "input_noise = VarSpace(\"input_noise\")\n",
    "input_noise.add_var_box(\"input1\", 0.0, 0.0)\n",
    "input_noise.add_var_box(\"input2\", 0.0, 0.0)\n",
    "\n",
    "outputs = VarSpace(\"outputs\")\n",
    "outputs.add_var_box(\"output1\", -1e6, 1e6)\n",
    "outputs.add_var_box(\"output2\", -1e6, 1e6)\n",
    "\n",
    "output_noise = VarSpace(\"output_noise\")\n",
    "output_noise.add_var_box(\"output1\", 0.0, 0.0)\n",
    "output_noise.add_var_box(\"output2\", 0.0, 0.0)\n",
    "\n",
    "# randomized system parameters and their range of values\n",
    "random_vars = VarSpace(\"random_vars\")\n",
    "random_vars.add_var_box(\"gain.k\", 1.0, 2.0)\n",
    "random_vars.add_var_box(\"gain1.k\", 2.5, 3.5)\n",
    "random_vars.add_var_box(\"add.k1\", -1.5, -0.5)\n",
    "# randomized initial initial states and their range of values -> not used, we have a static system\n",
    "# random_vars.add_var_box(\"firstOrder.y_start\", -0.5, 0.5)\n",
    "# random_vars.add_var_box(\"firstOrder1.y_start\", -0.5, 0.5)\n",
    "\n",
    "# allowed range of output values, if exceeded termination (or rather truncation) of the episode\n",
    "terminations = VarSpace(\"terminations\") # for single step simulation, no termination is needed\n",
    "# terminations.add_var_box(\"output1\", -0.6, 3.0)\n",
    "# terminations.add_var_box(\"output2\", -0.6, 3.5)\n",
    "\n",
    "# create FMUGymConfig object from all the above defined parameters\n",
    "config = FMUGymConfig(fmu_path=os.path.abspath('fmugym/examples/FMUs/dummy_geom_tol.fmu'),\n",
    "                      start_time=0.0,\n",
    "                      stop_time=1.0,                # only simulate one step\n",
    "                      sim_step_size=1.0,            # only simulate one step\n",
    "                      action_step_size=1.0,         # only simulate one step\n",
    "                      inputs=inputs,\n",
    "                      input_noise=input_noise,\n",
    "                      outputs=outputs,\n",
    "                      output_noise=output_noise,\n",
    "                      random_vars=random_vars,\n",
    "                      terminations=terminations\n",
    "                     )                        "
   ]
  },
  {
   "cell_type": "code",
   "execution_count": 4,
   "id": "f82741f5-2bd4-45dc-966e-3083f2cb13d9",
   "metadata": {},
   "outputs": [
    {
     "name": "stdout",
     "output_type": "stream",
     "text": [
      "ModelDescription(fmiVersion='2.0', modelName='dummy_geom_tol', coSimulation=CoSimulation(modelIdentifier='NonlinearMIMO'), modelExchange=None, scheduledExecution=None)\n"
     ]
    }
   ],
   "source": [
    "model_description = read_model_description(config.fmu_path)\n",
    "print(model_description)"
   ]
  },
  {
   "cell_type": "markdown",
   "id": "b6fe83cf",
   "metadata": {},
   "source": [
    "### 4 Creation of FMUEnv instance"
   ]
  },
  {
   "cell_type": "code",
   "execution_count": 5,
   "id": "e9baf88f-91cb-481b-9e96-0c6808ca36e2",
   "metadata": {
    "scrolled": true
   },
   "outputs": [],
   "source": [
    "dummyEnv = FMUEnv(config)"
   ]
  },
  {
   "cell_type": "markdown",
   "id": "afb569fb",
   "metadata": {},
   "source": [
    "### 5 Run evaluations with varying parameters"
   ]
  },
  {
   "cell_type": "code",
   "execution_count": 6,
   "id": "ea61833c",
   "metadata": {},
   "outputs": [
    {
     "name": "stdout",
     "output_type": "stream",
     "text": [
      "{'add.k1': -0.7585583, 'gain.k': 1.9273589, 'gain1.k': 2.5687656}\n"
     ]
    }
   ],
   "source": [
    "print(dummyEnv.get_random_vars())"
   ]
  },
  {
   "cell_type": "code",
   "execution_count": 7,
   "id": "fd277c5b",
   "metadata": {},
   "outputs": [],
   "source": [
    "num_episodes = 800\n",
    "num_steps = int((config.stop_time - config.start_time) / config.sim_step_size)\n",
    "obs_collection = []\n",
    "random_vars_collection = []\n",
    "act_array = [np.array([0.5, 0.4])]"
   ]
  },
  {
   "cell_type": "code",
   "execution_count": 8,
   "id": "ba0dbec8",
   "metadata": {},
   "outputs": [],
   "source": [
    "for iter in range(num_episodes):\n",
    "    # resetting the environment and setting random initial and target values\n",
    "    observation, info = dummyEnv.reset()\n",
    "    random_vars = dummyEnv.get_random_vars()\n",
    "    # capturing trajectories here\n",
    "    obs_array = []\n",
    "    obs_array.append(observation[\"observation\"])\n",
    "    for step in range(num_steps):\n",
    "        action = act_array[step]\n",
    "        observation, reward, terminated, truncated, info = dummyEnv.step(action)\n",
    "\n",
    "        if terminated or truncated:\n",
    "            observation, info = dummyEnv.reset()\n",
    "        obs_array.append(observation[\"observation\"])\n",
    "\n",
    "    obs_array = np.array(obs_array).flatten()\n",
    "    obs_array = obs_array.reshape(-1, 2)\n",
    "    obs_collection.append(obs_array)\n",
    "    random_vars_collection.append(random_vars)\n",
    "\n",
    "act_array = np.array(act_array).flatten()\n",
    "act_array = act_array.reshape(-1, 2) "
   ]
  },
  {
   "cell_type": "code",
   "execution_count": 9,
   "id": "3e875719",
   "metadata": {},
   "outputs": [
    {
     "data": {
      "image/png": "[encoded data removed]",
      "text/plain": [
       "<Figure size 432x288 with 3 Axes>"
      ]
     },
     "metadata": {
      "needs_background": "light"
     },
     "output_type": "display_data"
    }
   ],
   "source": [
    "plt.subplot(3, 1, 1)\n",
    "for obs_array in obs_collection:\n",
    "    plt.plot(obs_array[:, 0], color=\"b\", alpha=0.2)\n",
    "\n",
    "plt.subplot(3, 1, 2)\n",
    "for obs_array in obs_collection:\n",
    "    plt.plot(obs_array[:, 1], color=\"r\", alpha=0.2)\n",
    "\n",
    "plt.subplot(3, 1, 3)\n",
    "plt.plot(act_array[:, 0], label='u1', color=\"b\")\n",
    "plt.plot(act_array[:, 1], label='u2', color=\"r\")\n",
    "plt.legend()\n",
    "\n",
    "plt.show()"
   ]
  },
  {
   "cell_type": "code",
   "execution_count": 10,
   "id": "eb1d8a49",
   "metadata": {},
   "outputs": [
    {
     "data": {
      "image/png": "[encoded data removed]",
      "text/plain": [
       "<Figure size 432x288 with 1 Axes>"
      ]
     },
     "metadata": {
      "needs_background": "light"
     },
     "output_type": "display_data"
    },
    {
     "data": {
      "image/png": "[encoded data removed]",
      "text/plain": [
       "<Figure size 432x288 with 1 Axes>"
      ]
     },
     "metadata": {
      "needs_background": "light"
     },
     "output_type": "display_data"
    },
    {
     "data": {
      "image/png": "[encoded data removed]",
      "text/plain": [
       "<Figure size 432x288 with 1 Axes>"
      ]
     },
     "metadata": {
      "needs_background": "light"
     },
     "output_type": "display_data"
    }
   ],
   "source": [
    "keys = random_vars_collection[0].keys()\n",
    "\n",
    "# Organize data by key\n",
    "data_by_key = {key: [d[key] for d in random_vars_collection] for key in keys}\n",
    "\n",
    "# Plot histograms for each key\n",
    "for key, values in data_by_key.items():\n",
    "    plt.figure(figsize=(6, 4))\n",
    "    plt.hist(values, bins=5, edgecolor='black', alpha=0.7)\n",
    "    plt.xlabel(\"Value\")\n",
    "    plt.ylabel(\"Frequency\")\n",
    "    plt.title(f\"Histogram for {key}\")\n",
    "    plt.grid(axis='y', linestyle='--', alpha=0.7)\n",
    "    plt.show()\n"
   ]
  },
  {
   "cell_type": "code",
   "execution_count": null,
   "id": "2e5f0f12",
   "metadata": {},
   "outputs": [],
   "source": []
  }
 ],
 "metadata": {
  "kernelspec": {
   "display_name": "Python 3 (ipykernel)",
   "language": "python",
   "name": "python3"
  },
  "language_info": {
   "codemirror_mode": {
    "name": "ipython",
    "version": 3
   },
   "file_extension": ".py",
   "mimetype": "text/x-python",
   "name": "python",
   "nbconvert_exporter": "python",
   "pygments_lexer": "ipython3",
   "version": "3.10.12"
  }
 },
 "nbformat": 4,
 "nbformat_minor": 5
}
