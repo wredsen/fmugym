{
 "cells": [
  {
   "cell_type": "markdown",
   "id": "225772d6",
   "metadata": {},
   "source": [
    "# DC motor PID tuning"
   ]
  },
  {
   "cell_type": "code",
   "execution_count": 13,
   "id": "11deb528",
   "metadata": {},
   "outputs": [],
   "source": [
    "import os, sys\n",
    "import time\n",
    "from collections import OrderedDict\n",
    "\n",
    "import numpy as np\n",
    "from matplotlib import pyplot as plt\n",
    "\n",
    "from fmpy import read_model_description, extract\n",
    "\n",
    "from fmugym import FMUGym, FMUGymConfig, VarSpace, State2Out, TargetValue\n",
    "\n",
    "import gymnasium as gym"
   ]
  },
  {
   "cell_type": "markdown",
   "id": "093d19b1",
   "metadata": {},
   "source": [
    "### Parameters of the simulation"
   ]
  },
  {
   "cell_type": "code",
   "execution_count": 21,
   "id": "e4042a3b-5935-4fc3-999f-d6646b7d7014",
   "metadata": {},
   "outputs": [],
   "source": [
    "class FMUEnv(FMUGym):\n",
    "    def __init__(self, config):\n",
    "        self.init_states = {}\n",
    "        super().__init__(config)\n",
    "\n",
    "    def _get_info(self):\n",
    "        return {'info_time':time.time()}\n",
    "\n",
    "    # possibility to do processing of FMU outputs to observations of the environment here\n",
    "    def _get_obs(self):\n",
    "        \n",
    "        self._get_fmu_output()\n",
    "\n",
    "        obs = np.array(list(self.observation.values())).flatten()\n",
    "        \n",
    "        noisy_observation = obs + self._get_output_noise()\n",
    "\n",
    "        obs_dict = np.array(noisy_observation)\n",
    "        return obs_dict\n",
    "    \n",
    "    def _get_input_noise(self):\n",
    "        input_noise = []\n",
    "        for inp_name in self.input_dict:\n",
    "            input_noise.append(self.input_noise[inp_name].sample()[0])\n",
    "        return np.array(input_noise)\n",
    "\n",
    "    def _get_output_noise(self):\n",
    "        output_noise = []\n",
    "        for out_name in self.output_dict:\n",
    "                output_noise.append(self.output_noise[out_name].sample()[0])\n",
    "        return np.array(output_noise)\n",
    "\n",
    "    def _get_terminated(self):\n",
    "        if self.time > self.stop_time:\n",
    "            self.reset()\n",
    "            return True, False\n",
    "\n",
    "        for termination in self.terminations:\n",
    "            min_value = self.terminations[termination].low[0]\n",
    "            max_value = self.terminations[termination].high[0]\n",
    "            if self.observation[termination] < min_value or self.observation[termination] > max_value:\n",
    "                self.reset()\n",
    "                return False, True\n",
    "\n",
    "        return False, False\n",
    "\n",
    "    def _create_action_space(self, inputs):\n",
    "        lows = []\n",
    "        highs = []\n",
    "        for inp in inputs:\n",
    "            lows.append(inputs[inp].low[0])\n",
    "            highs.append(inputs[inp].high[0])\n",
    "        action_space = gym.spaces.Box(low=np.array(lows), high=np.array(highs), dtype=np.float32)\n",
    "        return action_space\n",
    "    \n",
    "    def _create_observation_space(self, outputs):\n",
    "        lows = []\n",
    "        highs = []\n",
    "        for out in outputs:\n",
    "            lows.append(outputs[out].low[0])\n",
    "            highs.append(outputs[out].high[0])\n",
    "        observation_space = gym.spaces.Box(low=np.array(lows), high=np.array(highs), dtype=np.float32)\n",
    "        return observation_space\n",
    "\n",
    "    def _noisy_init(self):\n",
    "        # add noise to initial system state\n",
    "        init_states = {}\n",
    "        for var in self.random_vars_refs:\n",
    "            var_ref = self.random_vars_refs[var][0]\n",
    "            uniform_value = self.random_vars_refs[var][1].sample()[0]\n",
    "            self.init_states[var_ref] = uniform_value\n",
    "        return self.init_states\n",
    "\n",
    "    def _process_action(self, action):\n",
    "        processed_action = action + self._get_input_noise()\n",
    "        return processed_action\n",
    "\n",
    "    # collect current values of randomized parameters with parameter_refs and store them in self.random_vars_refs\n",
    "    def get_random_vars(self):\n",
    "        params = {key: self.init_states[value[0]] for key, value in self.random_vars_refs.items()}\n",
    "        return params\n",
    "\n",
    "    def _process_reward(self, obs, acts, info):\n",
    "        reward = self.compute_reward(obs, info)\n",
    "        return reward\n",
    "    \n",
    "    def compute_reward(self, obs, info):\n",
    "        reward = -np.abs(obs[0])\n",
    "        return reward\n",
    "    \n",
    "    def set_PID_params(self, k, Ti, Td):\n",
    "        self.random_vars_refs[\"speedController.k\"][1].low = np.array([k])\n",
    "        self.random_vars_refs[\"speedController.k\"][1].high = np.array([k])\n",
    "        self.random_vars_refs[\"speedController.Ti\"][1].low = np.array([Ti])\n",
    "        self.random_vars_refs[\"speedController.Ti\"][1].high = np.array([Ti])\n",
    "        self.random_vars_refs[\"speedController.Td\"][1].low = np.array([Td])\n",
    "        self.random_vars_refs[\"speedController.Td\"][1].high = np.array([Td])"
   ]
  },
  {
   "cell_type": "code",
   "execution_count": 23,
   "id": "95f0c104-e5d3-4659-b2a2-d8ef1eaab83e",
   "metadata": {},
   "outputs": [],
   "source": [
    "inputs = VarSpace(\"inputs\")\n",
    "inputs.add_var_box(\"in_torque\", -10.0, 10.0)\n",
    "\n",
    "input_noise = VarSpace(\"input_noise\")\n",
    "input_noise.add_var_box(\"in_torque\", 0.0, 0.0)\n",
    "\n",
    "outputs = VarSpace(\"outputs\")\n",
    "outputs.add_var_box(\"out_control_err\", -1e6, 1e6)\n",
    "outputs.add_var_box(\"out_load_speed\", -1e6, 1e6)\n",
    "outputs.add_var_box(\"out_motor_speed\", -1e6, 1e6)\n",
    "\n",
    "output_noise = VarSpace(\"output_noise\")\n",
    "output_noise.add_var_box(\"out_control_err\", 0.0, 0.0)\n",
    "output_noise.add_var_box(\"out_load_speed\", 0.0, 0.0)\n",
    "output_noise.add_var_box(\"out_motor_speed\", 0.0, 0.0)\n",
    "\n",
    "# dynamics and domain randomization\n",
    "random_vars = VarSpace(\"random_vars\")\n",
    "# random_vars.add_var_box(\"damper.d\", 100.0, 1000.0)\n",
    "# random_vars.add_var_box(\"spring.k\", 1.0, 100.0)\n",
    "random_vars.add_var_box(\"speedController.k\", 100.0, 100.0)\n",
    "random_vars.add_var_box(\"speedController.Ti\", 0.1, 0.1)\n",
    "random_vars.add_var_box(\"speedController.Td\", 0.1, 0.1)\n",
    "\n",
    "#terminations = VarSpace(\"terminations\")\n",
    "\n",
    "config = FMUGymConfig(fmu_path=os.path.abspath('DC_motor_workshop/DC_motor.fmu'),\n",
    "                      start_time=0.0,\n",
    "                      stop_time=6.0,\n",
    "                      sim_step_size=0.01,\n",
    "                      action_step_size=0.01,\n",
    "                      inputs=inputs,\n",
    "                      input_noise=input_noise,\n",
    "                      outputs=outputs,\n",
    "                      output_noise=output_noise,\n",
    "                      random_vars=random_vars,\n",
    "                     )                        "
   ]
  },
  {
   "cell_type": "code",
   "execution_count": 24,
   "id": "f82741f5-2bd4-45dc-966e-3083f2cb13d9",
   "metadata": {},
   "outputs": [
    {
     "name": "stdout",
     "output_type": "stream",
     "text": [
      "ModelDescription(fmiVersion='2.0', modelName='Credibility.Examples.SimpleControlledDriveNonlinear.DC_Motor_Monte_Carlo', coSimulation=CoSimulation(modelIdentifier='DC_motor'), modelExchange=None, scheduledExecution=None)\n"
     ]
    }
   ],
   "source": [
    "model_description = read_model_description(config.fmu_path)\n",
    "print(model_description)"
   ]
  },
  {
   "cell_type": "markdown",
   "id": "b6fe83cf",
   "metadata": {},
   "source": [
    "### Creation of gym environment"
   ]
  },
  {
   "cell_type": "code",
   "execution_count": 25,
   "id": "e9baf88f-91cb-481b-9e96-0c6808ca36e2",
   "metadata": {},
   "outputs": [
    {
     "name": "stdout",
     "output_type": "stream",
     "text": [
      "LOG_SOLVER        | info    | CVODE linear multistep method CV_BDF\n",
      "LOG_SOLVER        | info    | CVODE maximum integration order CV_ITER_NEWTON\n",
      "LOG_SOLVER        | info    | CVODE use equidistant time grid YES\n",
      "LOG_SOLVER        | info    | CVODE Using relative error tolerance 1.000000e-06\n",
      "LOG_SOLVER        | info    | CVODE Using dense internal linear solver SUNLinSol_Dense.\n",
      "LOG_SOLVER        | info    | CVODE Use internal dense numeric jacobian method.\n",
      "LOG_SOLVER        | info    | CVODE uses internal root finding method NO\n",
      "LOG_SOLVER        | info    | CVODE maximum absolut step size 0\n",
      "LOG_SOLVER        | info    | CVODE initial step size is set automatically\n",
      "LOG_SOLVER        | info    | CVODE maximum integration order 5\n",
      "LOG_SOLVER        | info    | CVODE maximum number of nonlinear convergence failures permitted during one step 10\n",
      "LOG_SOLVER        | info    | CVODE BDF stability limit detection algorithm OFF\n"
     ]
    }
   ],
   "source": [
    "dummyEnv = FMUEnv(config)"
   ]
  },
  {
   "cell_type": "markdown",
   "id": "143def4d",
   "metadata": {},
   "source": [
    "### 5 Simulation of one episode with specific PID gains"
   ]
  },
  {
   "cell_type": "code",
   "execution_count": 26,
   "id": "98d8ba69-454c-4383-b165-c53359c43e02",
   "metadata": {},
   "outputs": [
    {
     "name": "stdout",
     "output_type": "stream",
     "text": [
      "{'speedController.Td': 0.1, 'speedController.Ti': 0.1, 'speedController.k': 100.0}\n"
     ]
    }
   ],
   "source": [
    "print(dummyEnv.get_random_vars())"
   ]
  },
  {
   "cell_type": "code",
   "execution_count": 27,
   "id": "a7bb816d",
   "metadata": {},
   "outputs": [
    {
     "name": "stdout",
     "output_type": "stream",
     "text": [
      "{'out_control_err': 51, 'out_load_speed': 52, 'out_motor_speed': 53}\n"
     ]
    }
   ],
   "source": [
    "print(dummyEnv.output_dict)"
   ]
  },
  {
   "cell_type": "code",
   "execution_count": 30,
   "id": "107226cd",
   "metadata": {},
   "outputs": [
    {
     "data": {
      "text/plain": [
       "{'speedController.Td': 0.1,\n",
       " 'speedController.Ti': 0.1,\n",
       " 'speedController.k': 10.0}"
      ]
     },
     "execution_count": 30,
     "metadata": {},
     "output_type": "execute_result"
    }
   ],
   "source": [
    "dummyEnv.get_random_vars()"
   ]
  },
  {
   "cell_type": "code",
   "execution_count": 29,
   "id": "faeed670",
   "metadata": {},
   "outputs": [
    {
     "name": "stdout",
     "output_type": "stream",
     "text": [
      "LOG_SOLVER        | info    | CVODE linear multistep method CV_BDF\n",
      "LOG_SOLVER        | info    | CVODE maximum integration order CV_ITER_NEWTON\n",
      "LOG_SOLVER        | info    | CVODE use equidistant time grid YES\n",
      "LOG_SOLVER        | info    | CVODE Using relative error tolerance 1.000000e-06\n",
      "LOG_SOLVER        | info    | CVODE Using dense internal linear solver SUNLinSol_Dense.\n",
      "LOG_SOLVER        | info    | CVODE Use internal dense numeric jacobian method.\n",
      "LOG_SOLVER        | info    | CVODE uses internal root finding method NO\n",
      "LOG_SOLVER        | info    | CVODE maximum absolut step size 0\n",
      "LOG_SOLVER        | info    | CVODE initial step size is set automatically\n",
      "LOG_SOLVER        | info    | CVODE maximum integration order 5\n",
      "LOG_SOLVER        | info    | CVODE maximum number of nonlinear convergence failures permitted during one step 10\n",
      "LOG_SOLVER        | info    | CVODE BDF stability limit detection algorithm OFF\n",
      "MSE:  4.933412e-05\n"
     ]
    },
    {
     "data": {
      "image/png": "[encoded data removed]",
      "text/plain": [
       "<Figure size 432x288 with 1 Axes>"
      ]
     },
     "metadata": {
      "needs_background": "light"
     },
     "output_type": "display_data"
    }
   ],
   "source": [
    "### PID parameters\n",
    "dummyEnv.set_PID_params(10, 0.1, 0.1)\n",
    "\n",
    "# Simulation\n",
    "num_steps_per_episode = int((config.stop_time - config.start_time) / config.sim_step_size)\n",
    "\n",
    "observation, info = dummyEnv.reset()\n",
    "obs_episode = [observation]\n",
    "\n",
    "# capturing trajectories here\n",
    "for k in range(num_steps_per_episode):\n",
    "    action = 0\n",
    "    observation, reward, terminated, truncated, info = dummyEnv.step(action)\n",
    "    obs_episode.append(observation)\n",
    "\n",
    "obs_episode = np.array(obs_episode)\n",
    "mean_squared_errors = (obs_episode**2).mean(axis=0)[0]\n",
    "print(\"MSE: \", mean_squared_errors)\n",
    "\n",
    "plt.figure()\n",
    "\n",
    "plt.plot(obs_episode[:, 0])\n",
    "\n",
    "plt.title(f\"Control error\")\n",
    "plt.xlabel(\"Time step\")\n",
    "plt.ylabel(\"Value\")\n",
    "plt.tight_layout()\n",
    "plt.show()"
   ]
  },
  {
   "cell_type": "code",
   "execution_count": null,
   "id": "998358b3",
   "metadata": {},
   "outputs": [],
   "source": []
  }
 ],
 "metadata": {
  "kernelspec": {
   "display_name": "Python 3 (ipykernel)",
   "language": "python",
   "name": "python3"
  },
  "language_info": {
   "codemirror_mode": {
    "name": "ipython",
    "version": 3
   },
   "file_extension": ".py",
   "mimetype": "text/x-python",
   "name": "python",
   "nbconvert_exporter": "python",
   "pygments_lexer": "ipython3",
   "version": "3.10.12"
  }
 },
 "nbformat": 4,
 "nbformat_minor": 5
}
