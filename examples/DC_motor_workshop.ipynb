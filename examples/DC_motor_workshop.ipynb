{
 "cells": [
  {
   "cell_type": "markdown",
   "id": "225772d6",
   "metadata": {},
   "source": [
    "# 16th International Modelica & FMI Conference Workshop\n",
    "## FMUGym: From Uncertainty-Aware Simulation to Learning-Based Control with FMI and Python"
   ]
  },
  {
   "cell_type": "markdown",
   "id": "50847363",
   "metadata": {},
   "source": [
    "In this tutorial, we are utilize the [FMUGym toolbox](https://github.com/Fraunhofer-IIS/fmugym) for Monte Carlo simulation, classical controller parametrization and training of a residual reinforcement learning (RL) agent for control under uncertainties. We leverage and slightly modify a DC motor drive example of the [Credibility library](https://github.com/DLR-SR/Credibility).\n",
    "![Modelica_view](DC_motor_workshop/Control_System_Overview.png)"
   ]
  },
  {
   "cell_type": "markdown",
   "id": "f572b991",
   "metadata": {},
   "source": [
    "### 0 Check all Imports\n",
    "Check if all necessary python libraries are installed without conflicts. If Google Colab or similar providers are used, uncomment installation commands."
   ]
  },
  {
   "cell_type": "code",
   "execution_count": null,
   "id": "c091ff06",
   "metadata": {},
   "outputs": [],
   "source": [
    "# !git clone https://github.com/wredsen/fmugym.git\n",
    "# %cd fmugym\n",
    "# !pip install -e .\n",
    "# !pip install stable_baselines3"
   ]
  },
  {
   "cell_type": "code",
   "execution_count": null,
   "id": "11deb528",
   "metadata": {},
   "outputs": [],
   "source": [
    "import os, sys\n",
    "import time\n",
    "\n",
    "import numpy as np\n",
    "\n",
    "!pip install scipy\n",
    "from scipy.optimize import differential_evolution, minimize\n",
    "from scipy.interpolate import griddata\n",
    "\n",
    "from matplotlib import pyplot as plt\n",
    "from mpl_toolkits.mplot3d import Axes3D\n",
    "\n",
    "from fmpy import read_model_description, extract\n",
    "\n",
    "from fmugym import FMUGym, FMUGymConfig, VarSpace, State2Out, TargetValue\n",
    "\n",
    "import gymnasium as gym\n",
    "from stable_baselines3 import PPO"
   ]
  },
  {
   "cell_type": "markdown",
   "id": "093d19b1",
   "metadata": {},
   "source": [
    "### 1 Implementation of abstract environment class\n",
    "Implement the abstract FMUGym class and add utility functions supporting this tutorial"
   ]
  },
  {
   "cell_type": "code",
   "execution_count": null,
   "id": "e4042a3b-5935-4fc3-999f-d6646b7d7014",
   "metadata": {},
   "outputs": [],
   "source": [
    "class FMUEnv(FMUGym):\n",
    "    def __init__(self, config):\n",
    "        self.init_states = {}\n",
    "        super().__init__(config)\n",
    "    \n",
    "    # Use negative squared control error as reward\n",
    "    def compute_reward(self, obs, info):\n",
    "        reward = -obs[2]**2\n",
    "        return reward\n",
    "    \n",
    "    ### Tutorial specific utility functions ###\n",
    "    def get_random_vars(self):\n",
    "        params = {key: self.init_states[value[0]] for key, value in self.random_vars_refs.items()}\n",
    "        return params\n",
    "    \n",
    "    def set_PID_params(self, k, Ti):\n",
    "        self.random_vars_refs[\"speedController.k\"][1].low = np.array([k])\n",
    "        self.random_vars_refs[\"speedController.k\"][1].high = np.array([k])\n",
    "        self.random_vars_refs[\"speedController.Ti\"][1].low = np.array([Ti]) # in s\n",
    "        self.random_vars_refs[\"speedController.Ti\"][1].high = np.array([Ti]) # in s\n",
    "    \n",
    "    def set_disturbance_torque(self, tau_min, tau_max):\n",
    "        self.random_vars_refs[\"torqueStep.stepTorque\"][1].low = np.array([tau_min]) # in Nm\n",
    "        self.random_vars_refs[\"torqueStep.stepTorque\"][1].high = np.array([tau_max]) # in Nm\n",
    "    \n",
    "    def set_spring_damper_parameters(self, d_bounds, k_bounds):\n",
    "        self.random_vars_refs[\"damper.d\"][1].low = np.array([d_bounds[0]]) # in Nms/rad\n",
    "        self.random_vars_refs[\"damper.d\"][1].high = np.array([d_bounds[0]]) # in Nms/rad\n",
    "        self.random_vars_refs[\"spring.k\"][1].low = np.array([k_bounds[0]])\n",
    "        self.random_vars_refs[\"spring.k\"][1].high = np.array([k_bounds[1]])"
   ]
  },
  {
   "cell_type": "markdown",
   "id": "55663bab",
   "metadata": {},
   "source": [
    "### 2 Parametrization and instantiation of simulation environment\n",
    "Parametrize model in-/outputs and define uncertainties. Spring and damper of load side with $\\pm$5%, PI controller parameters and disturbance load torque constant for now."
   ]
  },
  {
   "cell_type": "code",
   "execution_count": null,
   "id": "95f0c104-e5d3-4659-b2a2-d8ef1eaab83e",
   "metadata": {},
   "outputs": [],
   "source": [
    "# only relevant for final RL task\n",
    "inputs = VarSpace(\"inputs\")\n",
    "inputs.add_var_box(\"in_torque\", -10.0, 10.0) # in Nm\n",
    "\n",
    "# measurements as model outputs\n",
    "outputs = VarSpace(\"outputs\")\n",
    "outputs.add_var_box(\"out_control_err\", -1e6, 1e6) # in rad/s\n",
    "outputs.add_var_box(\"out_load_speed\", -1e6, 1e6) # in rad/s\n",
    "outputs.add_var_box(\"out_motor_speed\", -1e6, 1e6) # in rad/s\n",
    "\n",
    "random_vars = VarSpace(\"random_vars\") \n",
    "# uncertrain dynamic parameters for domain randomization\n",
    "random_vars.add_var_box(\"damper.d\", 38.0, 42.0) # in Nms/rad\n",
    "random_vars.add_var_box(\"spring.k\", 0.95, 1.05)\n",
    "# default control gains\n",
    "random_vars.add_var_box(\"speedController.k\", 100.0, 100.0)\n",
    "random_vars.add_var_box(\"speedController.Ti\", .1, .1) # in s\n",
    "\n",
    "# no external torque step value \n",
    "random_vars.add_var_box(\"torqueStep.stepTorque\", 5.0, 5.0) # in Nm\n",
    "\n",
    "config = FMUGymConfig(fmu_path=\"examples/DC_motor_workshop/DC_motor_dymola.fmu\", #os.path.abspath('DC_motor_workshop/DC_motor_dymola.fmu'),\n",
    "                      start_time=0.0,\n",
    "                      stop_time=1.0,\n",
    "                      sim_step_size=0.005,\n",
    "                      action_step_size=0.005,\n",
    "                      inputs=inputs,\n",
    "                      input_noise=None,\n",
    "                      outputs=outputs,\n",
    "                      output_noise=None,\n",
    "                      random_vars=random_vars,\n",
    "                     )                        \n",
    "\n",
    "model_description = read_model_description(config.fmu_path)\n",
    "print(model_description)"
   ]
  },
  {
   "cell_type": "markdown",
   "id": "b6fe83cf",
   "metadata": {},
   "source": [
    "#### Instantiation"
   ]
  },
  {
   "cell_type": "code",
   "execution_count": null,
   "id": "e9baf88f-91cb-481b-9e96-0c6808ca36e2",
   "metadata": {},
   "outputs": [],
   "source": [
    "DCMotorEnv = FMUEnv(config)"
   ]
  },
  {
   "cell_type": "markdown",
   "id": "143def4d",
   "metadata": {},
   "source": [
    "### 4 Monte Carlo evaluation of uncertain dynamic parameters with classical controller\n",
    "Only spring constant ($1.0 \\pm 0.05$) and damper parameter (($40 \\pm 2.0$) Nms/rad) are uncertain yet.\n",
    "![Modelica_view_kd](DC_motor_workshop/Control_System_Overview1.png)"
   ]
  },
  {
   "cell_type": "markdown",
   "id": "73b53278",
   "metadata": {},
   "source": [
    "#### Build dictionaries of indices for system parameters and outputs"
   ]
  },
  {
   "cell_type": "code",
   "execution_count": null,
   "id": "98d8ba69-454c-4383-b165-c53359c43e02",
   "metadata": {},
   "outputs": [],
   "source": [
    "idx_params = {}\n",
    "idx_outs = {}\n",
    "\n",
    "for i in range(len(DCMotorEnv.get_random_vars())):\n",
    "    param_i = list(DCMotorEnv.get_random_vars().keys())[i]\n",
    "    idx_params[param_i] = i\n",
    "    print(\"Parameter to randomize: \", param_i, \"at index\", i)\n",
    "    \n",
    "for i in range(len(DCMotorEnv.output_dict)):\n",
    "    out_i = list(DCMotorEnv.output_dict.keys())[i]\n",
    "    idx_outs[out_i] = i\n",
    "    print(\"Output: \", out_i, \"at index\", i)"
   ]
  },
  {
   "cell_type": "markdown",
   "id": "f71ce2b5",
   "metadata": {},
   "source": [
    "#### Monte Carlo simulation for N=500 episodes"
   ]
  },
  {
   "cell_type": "code",
   "execution_count": null,
   "id": "faeed670",
   "metadata": {
    "scrolled": true
   },
   "outputs": [],
   "source": [
    "num_episodes = 500\n",
    "num_steps_per_episode = int((config.stop_time - config.start_time) / config.sim_step_size)\n",
    "random_vars_collection = []\n",
    "obs_collection = []\n",
    "\n",
    "for iter in range(num_episodes):\n",
    "    # resetting the environment and setting random initial and target values\n",
    "    observation, info = DCMotorEnv.reset()\n",
    "    obs_episode = [observation]\n",
    "\n",
    "    # capturing trajectories here\n",
    "    for k in range(num_steps_per_episode):\n",
    "        action = 0\n",
    "        observation, reward, terminated, truncated, info = DCMotorEnv.step(action)\n",
    "        obs_episode.append(observation)\n",
    "    random_vars_collection.append(list(DCMotorEnv.get_random_vars().values()))\n",
    "    obs_collection.append(obs_episode)\n",
    "    \n",
    "random_vars_array = np.array(random_vars_collection)\n",
    "obs_array = np.array(obs_collection)\n",
    "squared_means = (obs_array**2).mean(axis=1)\n",
    "mean_squared_errors = squared_means[:, idx_outs[\"out_control_err\"]]"
   ]
  },
  {
   "cell_type": "markdown",
   "id": "ddcdf50f",
   "metadata": {},
   "source": [
    "#### Plotting system parameter distribution, MSE and relation"
   ]
  },
  {
   "cell_type": "code",
   "execution_count": null,
   "id": "9727714f",
   "metadata": {
    "scrolled": true
   },
   "outputs": [],
   "source": [
    "print(\"Distribution of system paramters\")\n",
    "for k in range(len(DCMotorEnv.get_random_vars())):\n",
    "    plt.figure(figsize=(6, 4))\n",
    "    plt.hist(random_vars_array[:, k], bins=10, edgecolor='black', alpha=0.7)\n",
    "    plt.xlabel(\"Value\")\n",
    "    plt.ylabel(\"Frequency\")\n",
    "    plt.title(f\"Histogram for {list(DCMotorEnv.get_random_vars().keys())[k]}, mean: {np.mean(random_vars_array[:, k]):.4f}, std: {np.std(random_vars_array[:, k]):.4f}\")\n",
    "    plt.grid(axis='y', linestyle='--', alpha=0.7)\n",
    "    plt.show()"
   ]
  },
  {
   "cell_type": "code",
   "execution_count": null,
   "id": "98eeb5b7",
   "metadata": {},
   "outputs": [],
   "source": [
    "print(\"Distribution of MSE\")\n",
    "plt.figure(figsize=(6, 4))\n",
    "plt.hist(mean_squared_errors, bins=10, edgecolor='black', alpha=0.7)\n",
    "plt.xlabel(\"Value in (rad/s)$^2$\")\n",
    "plt.ylabel(\"Frequency\")\n",
    "plt.title(f\"Histogram for mean squared control error\")\n",
    "plt.grid(axis='y', linestyle='--', alpha=0.7)\n",
    "plt.ticklabel_format(style='sci', axis='x', scilimits=(0,0))\n",
    "plt.show()"
   ]
  },
  {
   "cell_type": "code",
   "execution_count": null,
   "id": "4a1fccf3",
   "metadata": {},
   "outputs": [],
   "source": [
    "# Axes for 3D Plot\n",
    "x = random_vars_array[:, idx_params[\"damper.d\"]]\n",
    "y = random_vars_array[:, idx_params[\"spring.k\"]]\n",
    "z = mean_squared_errors\n",
    "\n",
    "# Create grid for surface\n",
    "grid_x, grid_y = np.mgrid[\n",
    "    x.min():x.max():100j,  # 100 points in each direction\n",
    "    y.min():y.max():100j\n",
    "]\n",
    "\n",
    "# Interpolate MSE values onto the grid\n",
    "grid_z = griddata(\n",
    "    points=(x, y),\n",
    "    values=z,\n",
    "    xi=(grid_x, grid_y),\n",
    "    method='cubic'  # can be 'linear', 'cubic', 'nearest'\n",
    ")\n",
    "\n",
    "\n",
    "# Create figure\n",
    "fig = plt.figure(figsize=(10, 7), constrained_layout=True)\n",
    "ax = fig.add_subplot(111, projection='3d')\n",
    "\n",
    "\n",
    "# Plot surface\n",
    "surf = ax.plot_surface(\n",
    "    grid_x, grid_y, grid_z,\n",
    "    cmap='viridis',\n",
    "    alpha=0.7,\n",
    "    edgecolor='none'\n",
    ")\n",
    "\n",
    "# Also scatter plot for original points\n",
    "ax.scatter(x, y, z, c=z, cmap='viridis', s=20, edgecolor='k')\n",
    "\n",
    "# Labels\n",
    "ax.set_xlabel('Damper constant d in Nms/rad')\n",
    "ax.set_ylabel('Spring constant k')\n",
    "ax.set_zlabel('MSE in (rad/s)$^2$', labelpad=13)\n",
    "ax.tick_params(axis='z', pad=8)\n",
    "ax.zaxis.label.set_rotation(90)  \n",
    "\n",
    "plt.tight_layout()\n",
    "plt.show()"
   ]
  },
  {
   "cell_type": "markdown",
   "id": "9f564257",
   "metadata": {},
   "source": [
    "#### Ensemble plots of output timeseries"
   ]
  },
  {
   "cell_type": "code",
   "execution_count": null,
   "id": "b8dbfb70",
   "metadata": {},
   "outputs": [],
   "source": [
    "import numpy as np\n",
    "import matplotlib.pyplot as plt\n",
    "\n",
    "times = np.arange(config.start_time, config.stop_time+config.sim_step_size, step=config.sim_step_size)\n",
    "\n",
    "for comp in range(obs_array.shape[2]):\n",
    "    data = obs_array[:, :, comp]          \n",
    "    plt.figure()\n",
    "    # Plot all episodes as faint lines (ensemble)\n",
    "    plt.plot(times[:], data.T, alpha=0.2, linewidth=0.8)\n",
    "\n",
    "    plt.title(f\"Ensemble plot — Component {list(idx_outs.keys())[comp]}\")\n",
    "    plt.xlabel(\"Time in s\")\n",
    "    plt.ylabel(\"Value in rad/s\")\n",
    "    plt.tight_layout()\n",
    "    plt.show()"
   ]
  },
  {
   "cell_type": "markdown",
   "id": "52d437ee",
   "metadata": {},
   "source": [
    "### 5 Manual PID Tuning for nominal system parameters\n",
    "Deterministic simulation, fix spring and damper values to nominal values and allow for manual PID tuning."
   ]
  },
  {
   "cell_type": "code",
   "execution_count": null,
   "id": "a46eb8fd",
   "metadata": {},
   "outputs": [],
   "source": [
    "DCMotorEnv.set_spring_damper_parameters([40.0, 40.0], [1.0, 1.0]) # in in Nms/rad, 1\n",
    "DCMotorEnv.reset()\n",
    "print(\"Nominal system parameters:\")\n",
    "print(DCMotorEnv.get_random_vars())"
   ]
  },
  {
   "cell_type": "code",
   "execution_count": null,
   "id": "ee525597",
   "metadata": {},
   "outputs": [],
   "source": [
    "def obs_MSE_per_episode(Kp, Ti):\n",
    "    DCMotorEnv.set_PID_params(Kp, Ti)\n",
    "    \n",
    "    num_steps_per_episode = int((config.stop_time - config.start_time) / config.sim_step_size)\n",
    "    observation, info = DCMotorEnv.reset()\n",
    "    obs_episode = [observation]\n",
    "    \n",
    "    # capturing trajectories here\n",
    "    for k in range(num_steps_per_episode):\n",
    "        action = 0 # no residual RL agent used yet\n",
    "        observation, reward, terminated, truncated, info = DCMotorEnv.step(action)\n",
    "        obs_episode.append(observation)\n",
    "\n",
    "    obs_episode = np.array(obs_episode)\n",
    "    mean_squared_error = (obs_episode**2).mean(axis=0)[idx_outs[\"out_control_err\"]]\n",
    "    \n",
    "    return obs_episode, mean_squared_error"
   ]
  },
  {
   "cell_type": "code",
   "execution_count": null,
   "id": "f55fa6a8",
   "metadata": {},
   "outputs": [],
   "source": [
    "### PID parameters\n",
    "Kp = 100\n",
    "Ti = 0.1 # in s\n",
    "obs, mses = obs_MSE_per_episode(Kp, Ti)\n",
    "\n",
    "print(f\"MSE: {mses:.3e} (rad/s)²\")\n",
    "\n",
    "plt.figure()\n",
    "plt.plot(times, obs[:, idx_outs[\"out_control_err\"]])\n",
    "plt.title(\"Control error\")\n",
    "plt.xlabel(\"Time in s\")\n",
    "plt.ylabel(\"Value in rad/s\")\n",
    "plt.tight_layout()\n",
    "plt.show()"
   ]
  },
  {
   "cell_type": "markdown",
   "id": "b43c3192",
   "metadata": {},
   "source": [
    "### 6 Optimize PID gains for uncertainty in system parameters and amplitude of torque disturbance\n",
    "Uncertain spring constant ($1.0 \\pm 0.05$) and damper parameter (($40 \\pm 2.0$) Nms/rad) as well as disturbance load torque (($10.0 \\pm 2.5$) Nm). Allow for automated PID tuning.\n",
    "![Modelica_view_kp_dist](DC_motor_workshop/Control_System_Overview2.png)"
   ]
  },
  {
   "cell_type": "code",
   "execution_count": null,
   "id": "2d990be5",
   "metadata": {},
   "outputs": [],
   "source": [
    "DCMotorEnv.set_disturbance_torque(2.5, 7.5) # Nm, disturbance torque step now varies\n",
    "DCMotorEnv.set_spring_damper_parameters([38.0, 42.0], [0.95, 1.05]) # original parameter range in in Nms/rad, 1"
   ]
  },
  {
   "cell_type": "code",
   "execution_count": null,
   "id": "a50da4f8",
   "metadata": {},
   "outputs": [],
   "source": [
    "# only take MSE, no other observations\n",
    "def MSE_per_episode(Kp, Ti):\n",
    "    _, MSE = obs_MSE_per_episode(Kp, Ti)\n",
    "    return MSE\n",
    "    \n",
    "# utilize classic optimization function from scipy\n",
    "def optimize_PID_gains(mse_fn, bounds, x0=None, seed=41, maxiter=200, polish=True, **mse_kwargs):\n",
    "    # Global search\n",
    "    de_res = differential_evolution(\n",
    "        lambda p: float(mse_fn(*p, **mse_kwargs)), \n",
    "        bounds=bounds,\n",
    "        seed=seed,\n",
    "        maxiter=maxiter,\n",
    "        updating='deferred',\n",
    "        workers=1,\n",
    "        polish=False\n",
    "    )\n",
    "\n",
    "    best_x = de_res.x if x0 is None else np.asarray(x0, dtype=float)\n",
    "\n",
    "    # Optional local polish\n",
    "    lbfgs_res = None\n",
    "    if polish:\n",
    "        lbfgs_res = minimize(\n",
    "            lambda p: float(mse_fn(*p, **mse_kwargs)),\n",
    "            x0=best_x,\n",
    "            method='L-BFGS-B',\n",
    "            bounds=bounds\n",
    "        )\n",
    "        final_x, final_mse = lbfgs_res.x, float(lbfgs_res.fun)\n",
    "        success, message = bool(lbfgs_res.success), str(lbfgs_res.message)\n",
    "    else:\n",
    "        final_x, final_mse = de_res.x, float(de_res.fun)\n",
    "        success, message = bool(de_res.success), str(de_res.message)\n",
    "\n",
    "    return {\n",
    "        'x': np.asarray(final_x, dtype=float),\n",
    "        'mse': float(final_mse),\n",
    "        'success': success,\n",
    "        'message': message,\n",
    "        'global_result': de_res,\n",
    "        'local_result': lbfgs_res\n",
    "    }"
   ]
  },
  {
   "cell_type": "code",
   "execution_count": null,
   "id": "1214d698",
   "metadata": {},
   "outputs": [],
   "source": [
    "timer_start_time = time.time()\n",
    "bounds = [(50.0, 150), (0.01, 1.0)] # in 1, s\n",
    "# if it takes >3 min, reduce maxiter parameter\n",
    "res = optimize_PID_gains(MSE_per_episode, bounds, seed=0, maxiter=100)\n",
    "print(res)\n",
    "print(\"optimization duration: \", time.time() - timer_start_time)"
   ]
  },
  {
   "cell_type": "markdown",
   "id": "4f52d678",
   "metadata": {},
   "source": [
    "#### Compare with previous parametrization"
   ]
  },
  {
   "cell_type": "code",
   "execution_count": null,
   "id": "8d4322f7",
   "metadata": {
    "scrolled": true
   },
   "outputs": [],
   "source": [
    "num_eps = 100\n",
    "\n",
    "mse_sum = 0.0\n",
    "for i in range(num_eps):\n",
    "    mse_sum += MSE_per_episode(Kp, Ti) \n",
    "print(f\"Mean squared error for Kp = {Kp:.1f} and Ti = {Ti:.3f} s: {mse_sum/(num_eps):.3e} (rad/s)²\")\n",
    "\n",
    "mse_sum = 0.0\n",
    "for i in range(num_eps):\n",
    "    mse_sum += MSE_per_episode(*res[\"x\"])\n",
    "print(f\"Mean squared error for Kp = {res['x'][0]:.1f} and Ti = {res['x'][1]:.3f} s: {mse_sum/(num_eps):.3e} (rad/s)²\")"
   ]
  },
  {
   "cell_type": "markdown",
   "id": "b2ec84b5",
   "metadata": {},
   "source": [
    "### 7 Training a residual RL policy to improve disturbance rejection\n",
    "Uncertain spring constant ($1.0 \\pm 0.05$) and damper parameter (($40 \\pm 2.0$) Nms/rad) as well as disturbance load torque (($10.0 \\pm 2.5$) Nm). Use previously optimized PID parameters. Now also include residual RL agent to compensate for unceratainties and disturbances.\n",
    "![Modelica_view_kp_dist_RL](DC_motor_workshop/Control_System_Overview3.png)"
   ]
  },
  {
   "cell_type": "code",
   "execution_count": null,
   "id": "cc0cf23b",
   "metadata": {},
   "outputs": [],
   "source": [
    "DCMotorEnv.set_PID_params(res['x'][0], res['x'][1])\n",
    "DCMotorEnv.reset()"
   ]
  },
  {
   "cell_type": "markdown",
   "id": "686b51e0",
   "metadata": {},
   "source": [
    "#### Instantiate an RL agent to be trained with the PPO algorithm"
   ]
  },
  {
   "cell_type": "code",
   "execution_count": null,
   "id": "30a7ee1b",
   "metadata": {},
   "outputs": [],
   "source": [
    "model = PPO(\n",
    "    \"MlpPolicy\",\n",
    "    DCMotorEnv,\n",
    "    verbose=1,\n",
    "    #tensorboard_log=\"/tmp/tensor_board\"\n",
    ")"
   ]
  },
  {
   "cell_type": "code",
   "execution_count": null,
   "id": "4ca59371",
   "metadata": {},
   "outputs": [],
   "source": [
    "# structure of NN\n",
    "model.policy"
   ]
  },
  {
   "cell_type": "markdown",
   "id": "d55ffef2",
   "metadata": {},
   "source": [
    "#### Train the agent for < 10 min"
   ]
  },
  {
   "cell_type": "code",
   "execution_count": null,
   "id": "fc282cdb",
   "metadata": {
    "scrolled": true
   },
   "outputs": [],
   "source": [
    "timer_start_time = time.time()\n",
    "model.learn(total_timesteps=200_000)\n",
    "print(\"learn duration: \", time.time() - timer_start_time)"
   ]
  },
  {
   "cell_type": "markdown",
   "id": "aab4679e",
   "metadata": {},
   "source": [
    "#### Compare performance with and without residual agent"
   ]
  },
  {
   "cell_type": "code",
   "execution_count": null,
   "id": "d93454f0",
   "metadata": {},
   "outputs": [],
   "source": [
    "# Infer trained RL agent multiple episodes\n",
    "def MSE_per_episode_RL(N):\n",
    "    squared_err_sum = 0.0\n",
    "    num_steps = int((config.stop_time - config.start_time) / config.sim_step_size)\n",
    "    for k in range(N):\n",
    "        observation, info = DCMotorEnv.reset()\n",
    "        for _ in range(num_steps):\n",
    "            action, _state = model.predict(observation, deterministic=True) \n",
    "            observation, reward, terminated, truncated, info = DCMotorEnv.step(action)\n",
    "            squared_err_sum += observation[idx_outs[\"out_control_err\"]]**2\n",
    "    return squared_err_sum/num_steps "
   ]
  },
  {
   "cell_type": "code",
   "execution_count": null,
   "id": "f296a9cb",
   "metadata": {},
   "outputs": [],
   "source": [
    "num_eps = 100\n",
    "\n",
    "# 100 episodes without RL agent\n",
    "DCMotorEnv.reset()\n",
    "mse_sum = 0.0\n",
    "for i in range(num_eps):\n",
    "    mse_sum += MSE_per_episode(res['x'][0], res['x'][1])\n",
    "print(f\"Mean squared error without RL agent: {mse_sum/num_eps:.3e} (rad/s)²\")\n",
    "\n",
    "# 100 episodes with RL agent\n",
    "mse_sum_agent = MSE_per_episode_RL(num_eps)\n",
    "print(f\"Mean squared error with RL agent: {mse_sum_agent/num_eps:.3e} (rad/s)²\")"
   ]
  },
  {
   "cell_type": "code",
   "execution_count": null,
   "id": "b6275ac6",
   "metadata": {},
   "outputs": [],
   "source": []
  }
 ],
 "metadata": {
  "kernelspec": {
   "display_name": "Python 3 (ipykernel)",
   "language": "python",
   "name": "python3"
  },
  "language_info": {
   "codemirror_mode": {
    "name": "ipython",
    "version": 3
   },
   "file_extension": ".py",
   "mimetype": "text/x-python",
   "name": "python",
   "nbconvert_exporter": "python",
   "pygments_lexer": "ipython3",
   "version": "3.10.12"
  }
 },
 "nbformat": 4,
 "nbformat_minor": 5
}
